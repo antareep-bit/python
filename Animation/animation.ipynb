{
 "cells": [
  {
   "cell_type": "code",
   "execution_count": 1,
   "metadata": {},
   "outputs": [],
   "source": [
    "import matplotlib.pyplot as plt\n",
    "import matplotlib.animation as animation\n",
    "import numpy as np\n",
    "\n",
    "from matplotlib.patches import Circle\n",
    "\n",
    "import warnings\n",
    "warnings.filterwarnings(\"ignore\")"
   ]
  },
  {
   "attachments": {},
   "cell_type": "markdown",
   "metadata": {},
   "source": [
    "# Simple Pendulum\n",
    "$$\\ddot\\theta = -\\frac{g}{L}\\sin(\\theta)$$"
   ]
  },
  {
   "attachments": {},
   "cell_type": "markdown",
   "metadata": {},
   "source": [
    "**Euler's Method**\n",
    "$$y'' = f(t,y,y'),\\quad y(t_0)=y_0,\\ y'(t_0)=y'_0$$\n",
    "\n",
    "Let $y'=z$,\n",
    "$$y'=z,\\quad z'=f$$\n",
    "\n",
    "Approximate solution by Euler's method:\n",
    "$$t_{n+1}=t_n+h,\\ y_{n+1}=y_n+hz_n,\\ z_{n+1}=z_n+hf$$"
   ]
  },
  {
   "cell_type": "code",
   "execution_count": null,
   "metadata": {},
   "outputs": [],
   "source": [
    "g = 9.8\n",
    "L = 1\n",
    "def f(y):\n",
    "    return -g/L * np.sin(y)\n",
    "h = 0.01 #step size\n",
    "n = 500 # number of frames\n",
    "yn, zn = 0.25*np.pi, 0 #inital position, initial velocity"
   ]
  },
  {
   "cell_type": "code",
   "execution_count": null,
   "metadata": {},
   "outputs": [],
   "source": [
    "yns, zns = [yn], [zn]\n",
    "for _ in range(n-1): #euler's method\n",
    "    yn1 = yn + h*zn\n",
    "    yn = yn1\n",
    "    yns.append(yn1)\n",
    "    zn1 = zn + h*f(yn)\n",
    "    zn = zn1\n",
    "    zns.append(zn1)"
   ]
  },
  {
   "cell_type": "code",
   "execution_count": null,
   "metadata": {},
   "outputs": [],
   "source": [
    "fig, ax = plt.subplots()\n",
    "ax.set_xlim(-2,2)\n",
    "ax.set_ylim(-2,0)\n",
    "ax.axis('equal')\n",
    "\n",
    "line = ax.plot([0,0], [0,-L])[0]\n",
    "circle = ax.add_patch(plt.Circle((0, 0), 0.02))\n",
    "\n",
    "x, y = L*np.sin(yns), -L*np.cos(yns)\n",
    "\n",
    "def animate(i):\n",
    "    circle.set_center((x[i], y[i]))\n",
    "    line.set_data([0,x[i]], [0,y[i]])\n",
    "\n",
    "anim = animation.FuncAnimation(fig, animate, frames=n, interval=20)\n",
    "anim.save('pendulum.mp4')\n",
    "\n",
    "from IPython.display import Video\n",
    "Video('pendulum.mp4')"
   ]
  },
  {
   "cell_type": "markdown",
   "metadata": {},
   "source": [
    "# Conway's Game of Life"
   ]
  },
  {
   "cell_type": "code",
   "execution_count": null,
   "metadata": {},
   "outputs": [],
   "source": [
    "a = np.array([[0]*10]*10)\n",
    "fig = plt.figure()\n",
    "ax = fig.add_subplot(111)\n",
    "ax.imshow(a==0)"
   ]
  },
  {
   "cell_type": "code",
   "execution_count": 16,
   "metadata": {},
   "outputs": [
    {
     "name": "stdout",
     "output_type": "stream",
     "text": [
      "[[0. 0. 0. 0. 0. 0. 0. 0. 0. 0.]\n",
      " [0. 0. 0. 0. 0. 0. 0. 0. 0. 0.]\n",
      " [0. 0. 0. 0. 0. 0. 0. 0. 0. 0.]\n",
      " [0. 0. 0. 0. 0. 0. 0. 0. 0. 0.]\n",
      " [0. 0. 0. 0. 0. 0. 0. 0. 0. 0.]\n",
      " [0. 0. 0. 0. 0. 0. 0. 0. 0. 0.]\n",
      " [0. 0. 0. 0. 0. 0. 0. 0. 0. 0.]\n",
      " [0. 0. 0. 0. 0. 0. 0. 0. 0. 0.]\n",
      " [0. 0. 0. 0. 0. 0. 0. 0. 0. 0.]\n",
      " [0. 0. 0. 0. 0. 0. 0. 0. 0. 0.]]\n",
      "Enter starting grid: (\"0 0\" to stop)\n"
     ]
    },
    {
     "data": {
      "text/plain": [
       "<matplotlib.image.AxesImage at 0x7f3bdb704a10>"
      ]
     },
     "execution_count": 16,
     "metadata": {},
     "output_type": "execute_result"
    },
    {
     "data": {
      "image/png": "[encoded data removed]",
      "text/plain": [
       "<Figure size 640x480 with 1 Axes>"
      ]
     },
     "metadata": {},
     "output_type": "display_data"
    }
   ],
   "source": [
    "A = np.zeros((10,10))\n",
    "print(A)\n",
    "print(\"Enter starting grid: (\\\"0 0\\\" to stop)\")\n",
    "x=1\n",
    "while x:\n",
    "    x, y = map(int, (input(\"x=\").split()))\n",
    "    A[x,y] = 1\n",
    "\n",
    "\n",
    "fig, ax = plt.subplots()\n",
    "ax.imshow(A)"
   ]
  },
  {
   "cell_type": "code",
   "execution_count": 10,
   "metadata": {},
   "outputs": [
    {
     "name": "stdout",
     "output_type": "stream",
     "text": [
      "1\n"
     ]
    }
   ],
   "source": []
  }
 ],
 "metadata": {
  "kernelspec": {
   "display_name": "Python 3",
   "language": "python",
   "name": "python3"
  },
  "language_info": {
   "codemirror_mode": {
    "name": "ipython",
    "version": 3
   },
   "file_extension": ".py",
   "mimetype": "text/x-python",
   "name": "python",
   "nbconvert_exporter": "python",
   "pygments_lexer": "ipython3",
   "version": "3.11.5"
  },
  "orig_nbformat": 4
 },
 "nbformat": 4,
 "nbformat_minor": 2
}
